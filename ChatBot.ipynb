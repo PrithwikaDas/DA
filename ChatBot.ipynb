{
  "nbformat": 4,
  "nbformat_minor": 0,
  "metadata": {
    "colab": {
      "provenance": [],
      "authorship_tag": "ABX9TyOG0pTSqLe0R9yIsx5289GX",
      "include_colab_link": true
    },
    "kernelspec": {
      "name": "python3",
      "display_name": "Python 3"
    },
    "language_info": {
      "name": "python"
    }
  },
  "cells": [
    {
      "cell_type": "markdown",
      "metadata": {
        "id": "view-in-github",
        "colab_type": "text"
      },
      "source": [
        "<a href=\"https://colab.research.google.com/github/PrithwikaDas/DA/blob/main/ChatBot.ipynb\" target=\"_parent\"><img src=\"https://colab.research.google.com/assets/colab-badge.svg\" alt=\"Open In Colab\"/></a>"
      ]
    },
    {
      "cell_type": "code",
      "source": [
        "import random\n",
        "import re"
      ],
      "metadata": {
        "id": "twUvwgm-_yDm"
      },
      "execution_count": 4,
      "outputs": []
    },
    {
      "cell_type": "code",
      "source": [
        "\n",
        "\n",
        "class RuleBot:\n",
        "    negative_responses = (\"no\", \"nope\", \"nah\", \"naw\", \"not a chance\", \"sorry\")\n",
        "    exit_commands = (\"quit\", \"finish\", \"pause\", \"exit\", \"goodbye\", \"bi\", \"later\")\n",
        "    random_questions = (\"Why are you here?\", \"Are there humans like you?\", \"What planets have you visited?\")\n",
        "\n",
        "    def __init__(self):\n",
        "        self.alienbabble = {'describe-planet_intent': r'.*\\s*your planet.*', 'answer_why_intent': r'why\\sare.*', 'about_intellipat': r'.*\\s*intellipat'}\n",
        "\n",
        "    def greet(self):\n",
        "        self.name = input(\"What is your name?\\n\")\n",
        "        will_help = input(f\"Hi {self.name}, I am Rule-Bot. Will you help me learn about your planet?\\n\")\n",
        "        if will_help in self.negative_responses:\n",
        "            print(\"Ok, have a nice Earth day!\")\n",
        "            return\n",
        "        self.chat()\n",
        "\n",
        "    def make_exit(self, reply):\n",
        "        for command in self.exit_commands:\n",
        "            if reply == command:\n",
        "                print(\"Ok, have a nice Earth day!\")\n",
        "                return True\n",
        "        return False\n",
        "\n",
        "    def chat(self):\n",
        "        reply = input(random.choice(self.random_questions)).lower()\n",
        "        while not self.make_exit(reply):\n",
        "            reply = input(self.match_reply(reply))\n",
        "\n",
        "    def match_reply(self, reply):\n",
        "        for key, value in self.alienbabble.items():\n",
        "            intent = key\n",
        "            regex_pattern = value\n",
        "            found_match = re.match(regex_pattern, reply)\n",
        "            if found_match and intent == 'describe-planet_intent':\n",
        "                return self.describe_planet_intent()\n",
        "            elif found_match and intent == 'answer_why_intent':\n",
        "                return self.answer_why_intent()\n",
        "            elif found_match and intent == 'about_intellipat':\n",
        "                return self.about_intellipat()\n",
        "        if not found_match:\n",
        "            return self.no_match_intent()\n",
        "\n",
        "    def describe_planet_intent(self):\n",
        "        responses = (\"My planet is a utopia of various organisms and species.\\n\",\n",
        "                     \"I am from Opidipus, the capital of Wayward Galaxies.\\n\")\n",
        "        return random.choice(responses)\n",
        "\n",
        "    def answer_why_intent(self):\n",
        "        responses = (\"I come in peace.\\n\",\n",
        "                     \"I am here to collect data on your planet and its inhabitants.\\n\",\n",
        "                     \"I heard the coffee here is good\")\n",
        "        return random.choice(responses)\n",
        "\n",
        "    def about_intellipat(self):\n",
        "        responses = (\"Intellipat is the world's largest educational company.\\n\",\n",
        "                     \"You can study here.\\n\")\n",
        "        return random.choice(responses)\n",
        "\n",
        "    def no_match_intent(self):\n",
        "        responses = (\"Please tell me more.\\n\",\n",
        "                     \"Tell me more!\\n\",\n",
        "                     \"Why do you say that?\",\n",
        "                     \"Can you elaborate?\")\n",
        "        return random.choice(responses)\n",
        "\n",
        "AlienBot = RuleBot()\n",
        "AlienBot.greet()\n"
      ],
      "metadata": {
        "colab": {
          "base_uri": "https://localhost:8080/"
        },
        "id": "hTn3-_xp_3Je",
        "outputId": "c135c755-8f68-42da-a890-82abfd51317f"
      },
      "execution_count": 5,
      "outputs": [
        {
          "output_type": "stream",
          "name": "stdout",
          "text": [
            "What is your name?\n",
            "Prithwika\n",
            "Hi Prithwika, I am Rule-Bot. Will you help me learn about your planet?\n",
            "No\n",
            "What planets have you visited?No planets\n",
            "Can you elaborate?Bye\n",
            "Can you elaborate?Bi\n",
            "Why do you say that?quit\n",
            "Ok, have a nice Earth day!\n"
          ]
        }
      ]
    }
  ]
}